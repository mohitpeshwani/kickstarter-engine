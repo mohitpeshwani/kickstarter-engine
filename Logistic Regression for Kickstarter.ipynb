{
 "cells": [
  {
   "cell_type": "code",
   "execution_count": 1,
   "metadata": {},
   "outputs": [],
   "source": [
    "## Import Required library\n",
    "import os\n",
    "import pandas as pd\n",
    "from sklearn.model_selection import train_test_split\n",
    "from sklearn.linear_model import LogisticRegression\n",
    "from sklearn import metrics\n",
    "import fnmatch\n",
    "import matplotlib.pyplot as plt"
   ]
  },
  {
   "cell_type": "code",
   "execution_count": 2,
   "metadata": {},
   "outputs": [
    {
     "name": "stdout",
     "output_type": "stream",
     "text": [
      "   project id                                               name  \\\n",
      "0       39409                              WHILE THE TREES SLEEP   \n",
      "1      126581               Educational Online Trading Card Game   \n",
      "2      138119                                              STRUM   \n",
      "3      237090  GETTING OVER - One son's search to finally kno...   \n",
      "4      246101  The Launch of FlyeGrlRoyalty &quot;The New Nam...   \n",
      "\n",
      "                                                 url      category  \\\n",
      "0  http://www.kickstarter.com/projects/emiliesaba...  Film & Video   \n",
      "1  http://www.kickstarter.com/projects/972789543/...         Games   \n",
      "2  http://www.kickstarter.com/projects/185476022/...  Film & Video   \n",
      "3  http://www.kickstarter.com/projects/charnick/g...  Film & Video   \n",
      "4  http://www.kickstarter.com/projects/flyegrlroy...       Fashion   \n",
      "\n",
      "          subcategory         location      status     goal  pledged  \\\n",
      "0          Short Film     Columbia, MO  successful  10500.0  11545.0   \n",
      "1  Board & Card Games    Maplewood, NJ      failed   4000.0     20.0   \n",
      "2           Animation  Los Angeles, CA        live  20000.0     56.0   \n",
      "3         Documentary  Los Angeles, CA  successful   6000.0   6535.0   \n",
      "4             Fashion         Novi, MI      failed   3500.0      0.0   \n",
      "\n",
      "   funded percentage  backers                      funded date  levels  \\\n",
      "0           1.099524       66  Fri, 19 Aug 2011 19:28:17 -0000       7   \n",
      "1           0.005000        2  Mon, 02 Aug 2010 03:59:00 -0000       5   \n",
      "2           0.002800        3  Fri, 08 Jun 2012 00:00:31 -0000      10   \n",
      "3           1.089167      100  Sun, 08 Apr 2012 02:14:00 -0000      13   \n",
      "4           0.000000        0  Wed, 01 Jun 2011 15:25:39 -0000       6   \n",
      "\n",
      "                                       reward levels  updates  comments  \\\n",
      "0               $25,$50,$100,$250,$500,$1,000,$2,500       10         2   \n",
      "1                                  $1,$5,$10,$25,$50        6         0   \n",
      "2  $1,$10,$25,$40,$50,$100,$250,$1,000,$1,337,$9,001        1         0   \n",
      "3  $1,$10,$25,$30,$50,$75,$85,$100,$110,$250,$500...        4         0   \n",
      "4                         $10,$25,$50,$100,$150,$250        2         0   \n",
      "\n",
      "   duration  \n",
      "0     30.00  \n",
      "1     47.18  \n",
      "2     28.00  \n",
      "3     32.22  \n",
      "4     30.00  \n"
     ]
    }
   ],
   "source": [
    "## Reading the csv file\n",
    "df = pd.DataFrame()\n",
    "df = pd.read_csv(\"DSI_kickstarterscrape_dataset1.csv\",encoding = \"utf-16\",low_memory=False)\n",
    "print(df.head())"
   ]
  },
  {
   "cell_type": "code",
   "execution_count": 3,
   "metadata": {},
   "outputs": [
    {
     "name": "stdout",
     "output_type": "stream",
     "text": [
      "(45957, 17)\n",
      "project id             int64\n",
      "name                  object\n",
      "url                   object\n",
      "category              object\n",
      "subcategory           object\n",
      "location              object\n",
      "status                object\n",
      "goal                 float64\n",
      "pledged              float64\n",
      "funded percentage    float64\n",
      "backers                int64\n",
      "funded date           object\n",
      "levels                 int64\n",
      "reward levels         object\n",
      "updates                int64\n",
      "comments               int64\n",
      "duration             float64\n",
      "dtype: object\n"
     ]
    }
   ],
   "source": [
    "## Dimension\n",
    "print(df.shape)\n",
    "print(df.dtypes)"
   ]
  },
  {
   "cell_type": "code",
   "execution_count": 4,
   "metadata": {},
   "outputs": [
    {
     "name": "stdout",
     "output_type": "stream",
     "text": [
      "successful    22969\n",
      "failed        18996\n",
      "live           3929\n",
      "canceled         59\n",
      "suspended         4\n",
      "Name: status, dtype: int64\n"
     ]
    }
   ],
   "source": [
    "## Removing unwanted rows:\n",
    "print(df.status.value_counts())\n",
    "\n",
    "df.drop(df.loc[df['status']=='live'].index, inplace=True)\n",
    "df.drop(df.loc[df['status']=='canceled'].index, inplace=True)\n",
    "df.drop(df.loc[df['status']=='suspended'].index, inplace=True)"
   ]
  },
  {
   "cell_type": "code",
   "execution_count": 5,
   "metadata": {},
   "outputs": [
    {
     "name": "stdout",
     "output_type": "stream",
     "text": [
      "(41965, 18)\n"
     ]
    }
   ],
   "source": [
    "## Spliting the column into two:\n",
    "new = df[\"location\"].str.split(\", \", n = 1, expand = True)\n",
    "df[\"city\"]= new[0]\n",
    "df[\"state\"]= new[1]\n",
    "df.drop(columns =[\"location\"], inplace = True)\n",
    "\n",
    "print(df.shape)"
   ]
  },
  {
   "cell_type": "code",
   "execution_count": 6,
   "metadata": {},
   "outputs": [
    {
     "name": "stdout",
     "output_type": "stream",
     "text": [
      "(39855, 18)\n"
     ]
    }
   ],
   "source": [
    "##Filtering states\n",
    "for each in df.state:\n",
    "    if (fnmatch.fnmatch(str(each),'??')) == False:\n",
    "        df.drop(df.loc[df['state']== each].index, inplace=True)\n",
    "\n",
    "print(df.shape)"
   ]
  },
  {
   "cell_type": "code",
   "execution_count": 7,
   "metadata": {},
   "outputs": [
    {
     "name": "stdout",
     "output_type": "stream",
     "text": [
      "project id              0\n",
      "name                    0\n",
      "url                     0\n",
      "category                0\n",
      "subcategory             0\n",
      "status                  0\n",
      "goal                    0\n",
      "pledged                 0\n",
      "funded percentage       0\n",
      "backers                 0\n",
      "funded date             0\n",
      "levels                  0\n",
      "reward levels          57\n",
      "updates                 0\n",
      "comments                0\n",
      "duration                0\n",
      "city                 1322\n",
      "state                1323\n",
      "dtype: int64\n",
      "project id           0\n",
      "name                 0\n",
      "url                  0\n",
      "category             0\n",
      "subcategory          0\n",
      "status               0\n",
      "goal                 0\n",
      "pledged              0\n",
      "funded percentage    0\n",
      "backers              0\n",
      "funded date          0\n",
      "levels               0\n",
      "reward levels        0\n",
      "updates              0\n",
      "comments             0\n",
      "duration             0\n",
      "city                 0\n",
      "state                0\n",
      "dtype: int64\n",
      "(38491, 18)\n"
     ]
    }
   ],
   "source": [
    "## Checking for missing values:\n",
    "print(df.isnull().sum())\n",
    "df = df.dropna()\n",
    "print(df.isnull().sum())\n",
    "\n",
    "print(df.shape)"
   ]
  },
  {
   "cell_type": "code",
   "execution_count": 8,
   "metadata": {},
   "outputs": [
    {
     "name": "stdout",
     "output_type": "stream",
     "text": [
      "14 Main categories\n",
      "\n",
      "Film &amp; Video    10925\n",
      "Music                9559\n",
      "Publishing           3778\n",
      "Art                  3263\n",
      "Theater              2196\n",
      "Design               1450\n",
      "Games                1365\n",
      "Food                 1243\n",
      "Photography          1110\n",
      "Fashion               975\n",
      "Comics                913\n",
      "Technology            654\n",
      "Dance                 649\n",
      "Film & Video          411\n",
      "Name: category, dtype: int64\n",
      "51 sub categories\n",
      "\n",
      "Short Film                3517\n",
      "Documentary               3060\n",
      "Music                     2876\n",
      "Theater                   2196\n",
      "Film &amp; Video          2162\n",
      "Indie Rock                1732\n",
      "Rock                      1584\n",
      "Narrative Film            1294\n",
      "Food                      1243\n",
      "Photography               1110\n",
      "Fashion                    975\n",
      "Webseries                  960\n",
      "Comics                     913\n",
      "Fiction                    885\n",
      "Art                        872\n",
      "Product Design             850\n",
      "Nonfiction                 789\n",
      "Country &amp; Folk         715\n",
      "Video Games                688\n",
      "Pop                        660\n",
      "Dance                      649\n",
      "Publishing                 575\n",
      "Children's Book            514\n",
      "Public Art                 473\n",
      "Performance Art            417\n",
      "Hip-Hop                    407\n",
      "Painting                   404\n",
      "Classical Music            393\n",
      "Jazz                       383\n",
      "Mixed Media                371\n",
      "Board &amp; Card Games     362\n",
      "Animation                  343\n",
      "World Music                327\n",
      "Technology                 304\n",
      "Journalism                 300\n",
      "Sculpture                  298\n",
      "Art Book                   272\n",
      "Electronic Music           256\n",
      "Periodical                 251\n",
      "Design                     230\n",
      "Games                      227\n",
      "Country & Folk             226\n",
      "Crafts                     215\n",
      "Open Software              198\n",
      "Poetry                     192\n",
      "Illustration               172\n",
      "Graphic Design             155\n",
      "Open Hardware              152\n",
      "Conceptual Art             137\n",
      "Digital Art                119\n",
      "Board & Card Games          88\n",
      "Name: subcategory, dtype: int64\n",
      "52 Number of states\n",
      "\n",
      "CA    8213\n",
      "NY    6626\n",
      "TX    1846\n",
      "IL    1714\n",
      "FL    1407\n",
      "WA    1272\n",
      "MA    1218\n",
      "PA    1205\n",
      "OR    1179\n",
      "GA     964\n",
      "MI     948\n",
      "TN     928\n",
      "NC     750\n",
      "OH     745\n",
      "CO     724\n",
      "MN     632\n",
      "AZ     567\n",
      "NJ     558\n",
      "VA     502\n",
      "MO     486\n",
      "MD     460\n",
      "LA     447\n",
      "DC     427\n",
      "UT     390\n",
      "IN     369\n",
      "WI     342\n",
      "NV     313\n",
      "CT     292\n",
      "SC     256\n",
      "NM     254\n",
      "ME     235\n",
      "KY     187\n",
      "RI     185\n",
      "VT     167\n",
      "OK     155\n",
      "HI     154\n",
      "AL     147\n",
      "KS     144\n",
      "ID     143\n",
      "IA     132\n",
      "NH     110\n",
      "NE     106\n",
      "AK      96\n",
      "AR      93\n",
      "MT      81\n",
      "MS      71\n",
      "WV      65\n",
      "SD      58\n",
      "DE      44\n",
      "Mt      29\n",
      "ND      28\n",
      "WY      27\n",
      "Name: state, dtype: int64\n"
     ]
    }
   ],
   "source": [
    "## Finding Main Category, Sub Category and number of states:\n",
    "print(len(df.category.unique()), \"Main categories\\n\")\n",
    "print(df.category.value_counts())\n",
    "print(len(df.subcategory.unique()), \"sub categories\\n\")\n",
    "print(df.subcategory.value_counts())\n",
    "print(len(df.state.unique()), \"Number of states\\n\")\n",
    "print(df.state.value_counts())"
   ]
  },
  {
   "cell_type": "code",
   "execution_count": 9,
   "metadata": {},
   "outputs": [],
   "source": [
    "### Implementing Logistic Regression Algorithm:"
   ]
  },
  {
   "cell_type": "code",
   "execution_count": 10,
   "metadata": {},
   "outputs": [],
   "source": [
    "## Converting categorical data into numerical data:\n",
    "df.category = pd.Categorical(df.category).codes\n",
    "df.state = pd.Categorical(df.state).codes\n",
    "df.city = pd.Categorical(df.city).codes\n",
    "df.subcategory = pd.Categorical(df.subcategory).codes\n",
    "df.status = pd.Categorical(df.status).codes"
   ]
  },
  {
   "cell_type": "code",
   "execution_count": 11,
   "metadata": {},
   "outputs": [],
   "source": [
    "## Dividing into training and test data set\n",
    "y1 = df['status']\n",
    "df2 = df[['category','subcategory','city','state','goal','levels','duration','updates']]\n",
    "x_trn, x_tst, y_trn, y_tst = train_test_split(df2,y1, test_size = 0.25)"
   ]
  },
  {
   "cell_type": "code",
   "execution_count": 12,
   "metadata": {},
   "outputs": [],
   "source": [
    "## Logistic Regression Model:\n",
    "logreg = LogisticRegression( solver='liblinear')"
   ]
  },
  {
   "cell_type": "code",
   "execution_count": 13,
   "metadata": {},
   "outputs": [
    {
     "data": {
      "text/plain": [
       "LogisticRegression(solver='liblinear')"
      ]
     },
     "execution_count": 13,
     "metadata": {},
     "output_type": "execute_result"
    }
   ],
   "source": [
    "## Train the model using training data set\n",
    "logreg.fit(x_trn, y_trn)"
   ]
  },
  {
   "cell_type": "code",
   "execution_count": 14,
   "metadata": {},
   "outputs": [],
   "source": [
    "## Prediction on test data set\n",
    "y_pred = logreg.predict(x_tst)"
   ]
  },
  {
   "cell_type": "code",
   "execution_count": 15,
   "metadata": {},
   "outputs": [
    {
     "ename": "NameError",
     "evalue": "name 'joblib' is not defined",
     "output_type": "error",
     "traceback": [
      "\u001b[1;31m---------------------------------------------------------------------------\u001b[0m",
      "\u001b[1;31mNameError\u001b[0m                                 Traceback (most recent call last)",
      "\u001b[1;32m<ipython-input-15-e6534bee3bd6>\u001b[0m in \u001b[0;36m<module>\u001b[1;34m\u001b[0m\n\u001b[1;32m----> 1\u001b[1;33m \u001b[0msavelog\u001b[0m\u001b[1;33m=\u001b[0m\u001b[0mjoblib\u001b[0m\u001b[1;33m.\u001b[0m\u001b[0mdump\u001b[0m\u001b[1;33m(\u001b[0m\u001b[0mlogreg\u001b[0m\u001b[1;33m,\u001b[0m\u001b[1;34m'log_recommendation.joblib'\u001b[0m\u001b[1;33m)\u001b[0m\u001b[1;33m\u001b[0m\u001b[1;33m\u001b[0m\u001b[0m\n\u001b[0m",
      "\u001b[1;31mNameError\u001b[0m: name 'joblib' is not defined"
     ]
    }
   ],
   "source": [
    "savelog=joblib.dump(logreg,'log_recommendation.joblib')"
   ]
  },
  {
   "cell_type": "code",
   "execution_count": null,
   "metadata": {},
   "outputs": [],
   "source": [
    "## Model Accuracy and F1-Score\n",
    "cfm = metrics.confusion_matrix(y_tst,y_pred)\n",
    "acc = metrics.accuracy_score(y_tst, y_pred)\n",
    "f1_score = metrics.f1_score(y_tst,y_pred)\n",
    "report = metrics.classification_report(y_tst,y_pred)\n",
    "print(\"Confusion  Matrix\", cfm)\n",
    "print(\"Accuracy:\",acc*100)\n",
    "print(\"Error:\", (1 - acc)*100)\n",
    "print(\"F1 Score:\",f1_score)\n",
    "print(\"Classfication Report:\",report)"
   ]
  },
  {
   "cell_type": "code",
   "execution_count": null,
   "metadata": {},
   "outputs": [],
   "source": [
    "### Model with selected features\n",
    "\n",
    "## Dividing the data set into training and test data\n",
    "y2 = df['status']\n",
    "df3 = df[['category','subcategory','city','state','goal','levels','duration','updates']]\n",
    "x_trn, x_tst, y_trn, y_tst = train_test_split(df3,y2, test_size = 0.25)"
   ]
  },
  {
   "cell_type": "code",
   "execution_count": null,
   "metadata": {},
   "outputs": [],
   "source": [
    "## Logistic Regression Model:\n",
    "logreg = LogisticRegression( solver='liblinear')"
   ]
  },
  {
   "cell_type": "code",
   "execution_count": null,
   "metadata": {},
   "outputs": [],
   "source": [
    "## Train the model using training data set\n",
    "logreg.fit(x_trn, y_trn)"
   ]
  },
  {
   "cell_type": "code",
   "execution_count": null,
   "metadata": {},
   "outputs": [],
   "source": [
    "## Prediction on test data set\n",
    "y_pred = logreg.predict(x_tst)"
   ]
  },
  {
   "cell_type": "code",
   "execution_count": null,
   "metadata": {},
   "outputs": [],
   "source": [
    "## Model Accuracy and F1-Score\n",
    "cfm = metrics.confusion_matrix(y_tst,y_pred)\n",
    "acc = metrics.accuracy_score(y_tst, y_pred)\n",
    "f1_score = metrics.f1_score(y_tst,y_pred)\n",
    "report = metrics.classification_report(y_tst,y_pred)\n",
    "print(\"Confusion  Matrix\", cfm)\n",
    "print(\"Accuracy:\",acc*100)\n",
    "print(\"Error:\", (1 - acc)*100)\n",
    "print(\"F1 Score:\",f1_score)\n",
    "print(\"Classfication Report:\",report)"
   ]
  },
  {
   "cell_type": "code",
   "execution_count": null,
   "metadata": {},
   "outputs": [],
   "source": [
    "## ROC Curve:\n",
    "y_pred_proba = logreg.predict_proba(x_tst)[::,1]\n",
    "fpr, tpr, _ = metrics.roc_curve(y_tst,  y_pred_proba)\n",
    "auc = metrics.roc_auc_score(y_tst, y_pred_proba)\n",
    "plt.plot(fpr,tpr,label=\"data 1, auc=\"+str(auc))\n",
    "plt.legend(loc=4)\n",
    "plt.show()"
   ]
  },
  {
   "cell_type": "code",
   "execution_count": null,
   "metadata": {},
   "outputs": [],
   "source": [
    "import joblib\n",
    "savelog=joblib.dump(logreg,'log_class.joblib')"
   ]
  },
  {
   "cell_type": "code",
   "execution_count": null,
   "metadata": {},
   "outputs": [],
   "source": []
  }
 ],
 "metadata": {
  "kernelspec": {
   "display_name": "Python 3",
   "language": "python",
   "name": "python3"
  },
  "language_info": {
   "codemirror_mode": {
    "name": "ipython",
    "version": 3
   },
   "file_extension": ".py",
   "mimetype": "text/x-python",
   "name": "python",
   "nbconvert_exporter": "python",
   "pygments_lexer": "ipython3",
   "version": "3.8.5"
  }
 },
 "nbformat": 4,
 "nbformat_minor": 2
}
